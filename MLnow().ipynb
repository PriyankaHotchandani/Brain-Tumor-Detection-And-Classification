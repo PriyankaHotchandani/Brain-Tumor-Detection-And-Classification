{
  "nbformat": 4,
  "nbformat_minor": 0,
  "metadata": {
    "colab": {
      "name": "MLnow().ipynb",
      "provenance": [],
      "collapsed_sections": [],
      "authorship_tag": "ABX9TyPPxaSVhi3XE0r2OgP7/59X",
      "include_colab_link": true
    },
    "kernelspec": {
      "name": "python3",
      "display_name": "Python 3"
    },
    "language_info": {
      "name": "python"
    }
  },
  "cells": [
    {
      "cell_type": "markdown",
      "metadata": {
        "id": "view-in-github",
        "colab_type": "text"
      },
      "source": [
        "<a href=\"https://colab.research.google.com/github/vaishnavi-vsp/Brain-Tumor-Detection-And-Classification/blob/main/MLnow().ipynb\" target=\"_parent\"><img src=\"https://colab.research.google.com/assets/colab-badge.svg\" alt=\"Open In Colab\"/></a>"
      ]
    },
    {
      "cell_type": "code",
      "metadata": {
        "colab": {
          "base_uri": "https://localhost:8080/"
        },
        "id": "fnP-YNt0VvBs",
        "outputId": "ae37455a-a2c6-41fe-d8a4-2ef05c90868c"
      },
      "source": [
        "print('Hello World!')"
      ],
      "execution_count": 2,
      "outputs": [
        {
          "output_type": "stream",
          "text": [
            "Hello World!\n"
          ],
          "name": "stdout"
        }
      ]
    },
    {
      "cell_type": "markdown",
      "metadata": {
        "id": "0TyWL2L3c0x0"
      },
      "source": [
        "#problem statement\n",
        "\n",
        "Train a model to learn the table of 10\n",
        "\n",
        "'y=10*x'"
      ]
    },
    {
      "cell_type": "markdown",
      "metadata": {
        "id": "H-q0ys2Ddz3g"
      },
      "source": [
        "##data creation\n",
        "TARGET:\n",
        "\n",
        "xTrain=[0,1,2,3,4.....]\n",
        "\n",
        "yTrain=[0,10,20,30,....]\n",
        "\n"
      ]
    },
    {
      "cell_type": "code",
      "metadata": {
        "colab": {
          "base_uri": "https://localhost:8080/"
        },
        "id": "5dAgMxvXdAsC",
        "outputId": "be897d26-7720-4c06-f3de-ed14e5d73294"
      },
      "source": [
        "x=[i for i in range(21)]\n",
        "print(x)"
      ],
      "execution_count": 14,
      "outputs": [
        {
          "output_type": "stream",
          "text": [
            "[0, 1, 2, 3, 4, 5, 6, 7, 8, 9, 10, 11, 12, 13, 14, 15, 16, 17, 18, 19, 20]\n"
          ],
          "name": "stdout"
        }
      ]
    },
    {
      "cell_type": "code",
      "metadata": {
        "colab": {
          "base_uri": "https://localhost:8080/"
        },
        "id": "zpIEaAT1evWi",
        "outputId": "a5ba5885-72d9-4a8d-e0b4-adb110558f71"
      },
      "source": [
        "y= [i for i in range(10*20+1) if i%10==0]\n",
        "print(y)"
      ],
      "execution_count": 15,
      "outputs": [
        {
          "output_type": "stream",
          "text": [
            "[0, 10, 20, 30, 40, 50, 60, 70, 80, 90, 100, 110, 120, 130, 140, 150, 160, 170, 180, 190, 200]\n"
          ],
          "name": "stdout"
        }
      ]
    },
    {
      "cell_type": "markdown",
      "metadata": {
        "id": "DEnmzNq8gYn4"
      },
      "source": [
        "## Aproach 1\n",
        "\n",
        "Defining a function for equation y=10*x\n"
      ]
    },
    {
      "cell_type": "code",
      "metadata": {
        "colab": {
          "base_uri": "https://localhost:8080/"
        },
        "id": "kepGf0MCgXfh",
        "outputId": "a1e531dd-8914-4294-9e0e-95d55fd47f44"
      },
      "source": [
        "def temp(x):\n",
        "  y=10*x\n",
        "  return y\n",
        "\n",
        "for value in x:\n",
        "  print(temp(value))"
      ],
      "execution_count": 16,
      "outputs": [
        {
          "output_type": "stream",
          "text": [
            "0\n",
            "10\n",
            "20\n",
            "30\n",
            "40\n",
            "50\n",
            "60\n",
            "70\n",
            "80\n",
            "90\n",
            "100\n",
            "110\n",
            "120\n",
            "130\n",
            "140\n",
            "150\n",
            "160\n",
            "170\n",
            "180\n",
            "190\n",
            "200\n"
          ],
          "name": "stdout"
        }
      ]
    },
    {
      "cell_type": "markdown",
      "metadata": {
        "id": "jZp-cUh3hbm2"
      },
      "source": [
        "## Approach 2\n",
        "\n",
        "ML model for a table of 10\n",
        "\n",
        "We need xTrain, yTrain, xTest, yTest from the x and y lists"
      ]
    },
    {
      "cell_type": "code",
      "metadata": {
        "colab": {
          "base_uri": "https://localhost:8080/"
        },
        "id": "-_2hQff-h_d9",
        "outputId": "56e44569-7fd7-479d-ba9e-35a71709309e"
      },
      "source": [
        "print(f'This is x: {x}')\n",
        "print(f'this is y: {y}')"
      ],
      "execution_count": 19,
      "outputs": [
        {
          "output_type": "stream",
          "text": [
            "This is x: [0, 1, 2, 3, 4, 5, 6, 7, 8, 9, 10, 11, 12, 13, 14, 15, 16, 17, 18, 19, 20]\n",
            "this is y: [0, 10, 20, 30, 40, 50, 60, 70, 80, 90, 100, 110, 120, 130, 140, 150, 160, 170, 180, 190, 200]\n"
          ],
          "name": "stdout"
        }
      ]
    },
    {
      "cell_type": "code",
      "metadata": {
        "colab": {
          "base_uri": "https://localhost:8080/"
        },
        "id": "FDTfHA6zgthO",
        "outputId": "43416ace-fa60-4bf6-d24f-9f4c367f192b"
      },
      "source": [
        "#training data\n",
        "xTrain=x[:-5]\n",
        "#training labels\n",
        "yTrain=y[:-5]\n",
        "\n",
        "#testing data\n",
        "xTest=x[-5:]\n",
        "#testing labels\n",
        "yTest=y[-5:]\n",
        "\n",
        "print(f'''\n",
        "Training Data: \n",
        "xTrain: {xTrain}\n",
        "yTrain: {yTrain}\n",
        "\n",
        "Testing Data\n",
        "xTest: {xTest}\n",
        "yTest: {yTest}\n",
        "''')"
      ],
      "execution_count": 27,
      "outputs": [
        {
          "output_type": "stream",
          "text": [
            "\n",
            "Training Data: \n",
            "xTrain: [0, 1, 2, 3, 4, 5, 6, 7, 8, 9, 10, 11, 12, 13, 14, 15]\n",
            "yTrain: [0, 10, 20, 30, 40, 50, 60, 70, 80, 90, 100, 110, 120, 130, 140, 150]\n",
            "\n",
            "Testing Data\n",
            "xTest: [16, 17, 18, 19, 20]\n",
            "yTest: [160, 170, 180, 190, 200]\n",
            "\n"
          ],
          "name": "stdout"
        }
      ]
    },
    {
      "cell_type": "code",
      "metadata": {
        "id": "GibfuUQ6kXWw"
      },
      "source": [
        "import tensorflow as tf\n",
        "from tensorflow import keras"
      ],
      "execution_count": 29,
      "outputs": []
    },
    {
      "cell_type": "code",
      "metadata": {
        "id": "S9ClqPK8knAc"
      },
      "source": [
        "#perceptron\n",
        "\n",
        "model=tf.keras.Sequential([\n",
        "                           tf.keras.layers.Dense\n",
        "])"
      ],
      "execution_count": null,
      "outputs": []
    }
  ]
}